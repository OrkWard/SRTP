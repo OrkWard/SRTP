{
 "cells": [
  {
   "cell_type": "code",
   "execution_count": null,
   "metadata": {},
   "outputs": [],
   "source": [
    "import torch\n",
    "from torch import nn\n",
    "import numpy as np\n",
    "from myConv import myConv2d"
   ]
  },
  {
   "cell_type": "code",
   "execution_count": null,
   "metadata": {},
   "outputs": [],
   "source": [
    "# import data and convert to tensor\n",
    "import tifffile as tiff\n",
    "pavia = tiff.imread(r'E:\\Hyperspectral Scenes\\Pavia Center and University_down\\pavia.tif')\n",
    "pavia_gt = tiff.imread(r'E:\\Hyperspectral Scenes\\Pavia Center and University_down\\pavia_gt.tif')\n",
    "pavia = np.moveaxis(np.array(pavia, dtype=int), -1, 0)\n",
    "pavia_gt = np.array(pavia_gt, dtype=int)\n",
    "X = torch.from_numpy(pavia)\n",
    "y = torch.from_numpy(pavia_gt)\n",
    "X.shape, y.shape"
   ]
  },
  {
   "cell_type": "code",
   "execution_count": null,
   "metadata": {},
   "outputs": [],
   "source": [
    "from torch.utils.data import DataLoader, Dataset\n",
    "\n",
    "# split data into train and test\n",
    "# X_train, X_test, y_train, y_test = train_test_split(X, y, test_size=0.2, random_state=42)\n",
    "\n",
    "# dataset class\n",
    "class HyperDataset(Dataset):\n",
    "    def __init__(self, image_path, gt_path):\n",
    "        self.image = tiff.imread(image_path)\n",
    "        self.image = np.moveaxis(np.array(self.image, dtype=np.float32), -1, 0)\n",
    "        self.image = torch.from_numpy(self.image)\n",
    "        print(self.image.dtype)\n",
    "\n",
    "        self.gt = tiff.imread(gt_path)\n",
    "        self.gt = np.array(self.gt, dtype=np.float32)\n",
    "        self.gt = torch.from_numpy(self.gt)\n",
    "        self.indices = np.nonzero(self.gt[5:-5, 5:-5])\n",
    "        self.nonzero = np.count_nonzero(self.gt[5:-5, 5:-5])\n",
    "\n",
    "    def __len__(self):\n",
    "        return self.nonzero\n",
    "\n",
    "    def __getitem__(self, index):\n",
    "        x = self.indices[index][0] + 5\n",
    "        y = self.indices[index][1] + 5\n",
    "        image = self.image[:, x-5:x+5, y-5:y+5]\n",
    "        gt = self.gt[x, y]\n",
    "        return image, gt\n",
    "\n",
    "dataset = HyperDataset(r'E:\\Hyperspectral Scenes\\Pavia Center and University_down\\pavia.tif',\n",
    "                       r'E:\\Hyperspectral Scenes\\Pavia Center and University_down\\pavia_gt.tif')\n",
    "train_size = int(0.8 * len(dataset))\n",
    "test_size = len(dataset) - train_size\n",
    "train_dataset, test_dataset = torch.utils.data.random_split(dataset, [train_size, test_size])\n",
    "train_loader = DataLoader(train_dataset, batch_size=32, shuffle=True)\n",
    "test_loader = DataLoader(test_dataset, batch_size=32, shuffle=True)"
   ]
  },
  {
   "cell_type": "code",
   "execution_count": null,
   "metadata": {},
   "outputs": [],
   "source": [
    "from torch import optim\n",
    "from torch.nn.functional import relu\n",
    "\n",
    "lr = 0.001\n",
    "\n",
    "# define net\n",
    "class Net(nn.Module):\n",
    "    def __init__(self):\n",
    "        super().__init__()\n",
    "        # self.conv1 = myConv2d(102, 64, kernel_size=[3, 3], stride=1)\n",
    "        self.conv1 = nn.Conv2d(102, 64, 3, 1, 1)\n",
    "        # self.conv2 = myConv2d(64, 32, kernel_size=[3, 3], stride=1)\n",
    "        self.conv2 = nn.Conv2d(64, 32, 3, 1, 1)\n",
    "        # self.conv3 = myConv2d(32, 16, kernel_size=[3, 3], stride=1)\n",
    "        self.conv3 = nn.Conv2d(32, 16, 3, 1, 1)\n",
    "        self.fc = nn.Linear(16*10*10, 10)\n",
    "\n",
    "    def forward(self, x):\n",
    "        # x = x.float()\n",
    "        out = relu(self.conv1(x))\n",
    "        out = relu(self.conv2(out))\n",
    "        out = relu(self.conv3(out))\n",
    "        out = out.view(out.size(0), -1)\n",
    "        out = self.fc(out)\n",
    "        return out\n",
    "\n",
    "model = Net()\n",
    "criterion = nn.CrossEntropyLoss()\n",
    "optimizer = optim.SGD(model.parameters(), lr=lr, momentum=0.9)"
   ]
  },
  {
   "cell_type": "code",
   "execution_count": null,
   "metadata": {},
   "outputs": [],
   "source": [
    "# train\n",
    "for epoch in range(10):\n",
    "    for i, (data, labels) in enumerate(train_loader):\n",
    "        # forward\n",
    "        outputs = model(data)\n",
    "        loss = criterion(outputs, labels.long())\n",
    "\n",
    "        # backward\n",
    "        optimizer.zero_grad()\n",
    "        loss.backward()\n",
    "        optimizer.step()\n",
    "\n",
    "        # print analysis\n",
    "        if (i+1) % 100 == 0:\n",
    "            print('Epoch [{}/{}], Step [{}/{}], Loss: {:.4f}'.format(epoch+1, 10, i+1, len(train_loader), loss.item()))\n",
    "        if i > 10:\n",
    "            break"
   ]
  },
  {
   "cell_type": "code",
   "execution_count": null,
   "metadata": {},
   "outputs": [],
   "source": [
    "# test\n",
    "with torch.no_grad():\n",
    "    correct = 0\n",
    "    total = 0\n",
    "    for data, labels in test_loader:\n",
    "        outputs = model(data)\n",
    "        _, predicted = torch.max(outputs.data, 1)\n",
    "        total += labels.size(0)\n",
    "        correct += (predicted == labels.squeeze()).sum().item()\n",
    "\n",
    "    print('Test Accuracy of the model on the test data: {} %'.format(100 * correct / total))"
   ]
  }
 ],
 "metadata": {
  "kernelspec": {
   "display_name": "hyperspectral",
   "language": "python",
   "name": "python3"
  },
  "language_info": {
   "name": "python",
   "version": "3.9.12"
  },
  "orig_nbformat": 4
 },
 "nbformat": 4,
 "nbformat_minor": 2
}
