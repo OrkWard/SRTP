{
 "cells": [
  {
   "cell_type": "code",
   "execution_count": 80,
   "metadata": {},
   "outputs": [],
   "source": [
    "import torch\n",
    "from torch import nn\n",
    "import numpy as np"
   ]
  },
  {
   "cell_type": "code",
   "execution_count": 82,
   "metadata": {},
   "outputs": [],
   "source": [
    "import random\n",
    "class myConv1d():\n",
    "    def __init__(self, in_channels: int, out_channels: int, kernel_size: int, stride: int = 1) -> None:\n",
    "        self.in_channels = in_channels\n",
    "        self.out_channels = out_channels\n",
    "        self.kernel_size = kernel_size\n",
    "        self.stride = stride\n",
    "\n",
    "        # init parameters\n",
    "        parameters = []\n",
    "        for i_out in range(out_channels):\n",
    "            out_channel = []\n",
    "            for i_in in range(in_channels):\n",
    "                kernel = np.random.rand(kernel_size)\n",
    "                out_channel.append(kernel)\n",
    "            parameters.append(out_channel)\n",
    "        self.parameters = torch.tensor(parameters)\n",
    "\n",
    "        # init bias\n",
    "        bias = []\n",
    "        for i_out in range(out_channels):\n",
    "            bias.append(random.random())\n",
    "            # bias.append(0.1)\n",
    "        self.bias = torch.tensor(bias)\n",
    "\n",
    "    def __call__(self, input: torch.Tensor) -> torch.Tensor:\n",
    "        calculated = []\n",
    "        for i_out in range(self.out_channels):\n",
    "            sum = [0.] * (input.size(1) - self.kernel_size + 1)\n",
    "            for i_in in range(self.in_channels):\n",
    "                for i_w in range(input.size(1) - self.kernel_size + 1):\n",
    "                    # print(i_out, i_in, i_w)\n",
    "                    sum[i_w] += torch.dot(self.parameters[i_out][i_in], input[i_in][i_w:i_w + self.kernel_size])\n",
    "            sum = [x + self.bias[i_out] for x in sum]\n",
    "            calculated.append(sum)\n",
    "        return torch.tensor(calculated)"
   ]
  },
  {
   "cell_type": "code",
   "execution_count": 89,
   "metadata": {},
   "outputs": [
    {
     "data": {
      "text/plain": [
       "tensor([[0., 1., 2., 3.],\n",
       "        [4., 5., 6., 7.]])"
      ]
     },
     "execution_count": 89,
     "metadata": {},
     "output_type": "execute_result"
    }
   ],
   "source": [
    "IN_CHANNEL = 2\n",
    "OUT_CHANNEL = 2\n",
    "KERNEL_SIZE = 3\n",
    "HEIGHT = 3\n",
    "WIDTH = 3\n",
    "LENGTH = 4\n",
    "t = torch.arange(IN_CHANNEL * LENGTH, dtype=torch.float)\n",
    "t.resize_(IN_CHANNEL, LENGTH)\n",
    "t"
   ]
  },
  {
   "cell_type": "code",
   "execution_count": 90,
   "metadata": {},
   "outputs": [
    {
     "data": {
      "text/plain": [
       "(tensor([[-0.6806, -0.9437],\n",
       "         [ 1.4369,  1.9290]]),\n",
       " tensor([[-0.6806, -0.9437],\n",
       "         [ 1.4369,  1.9290]], grad_fn=<SqueezeBackward1>))"
      ]
     },
     "execution_count": 90,
     "metadata": {},
     "output_type": "execute_result"
    }
   ],
   "source": [
    "d1 = nn.Conv1d(IN_CHANNEL, OUT_CHANNEL, KERNEL_SIZE, dtype=torch.float)\n",
    "d2 = myConv1d(IN_CHANNEL, OUT_CHANNEL, KERNEL_SIZE)\n",
    "d2.parameters = d1._parameters['weight'].data\n",
    "d2.bias = d1._parameters['bias'].data\n",
    "d2(t), d1(t)"
   ]
  },
  {
   "cell_type": "code",
   "execution_count": 85,
   "metadata": {},
   "outputs": [],
   "source": [
    "import random\n",
    "class myConv2d():\n",
    "    def __init__(self, in_channels: int, out_channels: int, kernel_size: tuple[int, int], stride: int = 1) -> None:\n",
    "        self.in_channels = in_channels\n",
    "        self.out_channels = out_channels\n",
    "        self.kernel_size = kernel_size\n",
    "        self.stride = stride\n",
    "\n",
    "        # init parameters\n",
    "        parameters = []\n",
    "        for i_out in range(out_channels):\n",
    "            out_channel = []\n",
    "            for i_in in range(in_channels):\n",
    "                kernel = np.random.rand(*kernel_size)\n",
    "                out_channel.append(kernel)\n",
    "            parameters.append(out_channel)\n",
    "        self.parameters = torch.tensor(parameters)\n",
    "\n",
    "        # init bias\n",
    "        bias = []\n",
    "        for i_out in range(out_channels):\n",
    "            bias.append(random.random())\n",
    "            # bias.append(0.1)\n",
    "        self.bias = torch.tensor(bias)\n",
    "\n",
    "    def __call__(self, input: torch.Tensor) -> torch.Tensor:\n",
    "        calculated = []\n",
    "        for i_out in range(self.out_channels):\n",
    "            sum = np.array([input.size(1) - self.kernel_size[0] + 1, input.size(2) - self.kernel_size[1] + 1])\n",
    "            for i_in in range(self.in_channels):\n",
    "                for i_w in range(input.size(1) - self.kernel_size[0] + 1):\n",
    "                    for i_h in range(input.size(2) - self.kernel_size[1] + 1):\n",
    "                        sum[i_w] += torch.sum(self.parameters[i_out][i_in] * input[i_in][i_w:i_w + self.kernel_size[0]][i_h:i_h + self.kernel_size[1]])\n",
    "            sum = [x + self.bias[i_out] for x in sum]\n",
    "            calculated.append(sum)\n",
    "        return torch.tensor(calculated)"
   ]
  },
  {
   "cell_type": "code",
   "execution_count": 86,
   "metadata": {},
   "outputs": [
    {
     "data": {
      "text/plain": [
       "tensor([[[ 0.,  1.,  2.],\n",
       "         [ 3.,  4.,  5.],\n",
       "         [ 6.,  7.,  8.],\n",
       "         [ 9., 10., 11.]],\n",
       "\n",
       "        [[12., 13., 14.],\n",
       "         [15., 16., 17.],\n",
       "         [18., 19., 20.],\n",
       "         [21., 22., 23.]]])"
      ]
     },
     "execution_count": 86,
     "metadata": {},
     "output_type": "execute_result"
    }
   ],
   "source": [
    "IN_CHANNEL = 2\n",
    "OUT_CHANNEL = 2\n",
    "KERNEL_SIZE = (3, 3)\n",
    "HEIGHT = 3\n",
    "WIDTH = 3\n",
    "LENGTH = 4\n",
    "t1 = torch.arange(IN_CHANNEL * LENGTH * HEIGHT, dtype=torch.float)\n",
    "t1.resize_(IN_CHANNEL, LENGTH, HEIGHT)\n",
    "t1"
   ]
  },
  {
   "cell_type": "code",
   "execution_count": 87,
   "metadata": {},
   "outputs": [
    {
     "data": {
      "text/plain": [
       "(tensor([[[ 9.1929],\n",
       "          [10.9184]],\n",
       " \n",
       "         [[-2.8325],\n",
       "          [-3.4957]]], grad_fn=<SqueezeBackward1>),\n",
       " tensor([[ 9.9833, 10.9833],\n",
       "         [-1.0271, -3.0271]]))"
      ]
     },
     "execution_count": 87,
     "metadata": {},
     "output_type": "execute_result"
    }
   ],
   "source": [
    "d3 = nn.Conv2d(IN_CHANNEL, OUT_CHANNEL, KERNEL_SIZE)\n",
    "d4 = myConv2d(IN_CHANNEL, OUT_CHANNEL, KERNEL_SIZE)\n",
    "d4.parameters = d3._parameters['weight'].data\n",
    "d4.bias = d3._parameters['bias'].data\n",
    "d3(t1), d4(t1)"
   ]
  },
  {
   "cell_type": "code",
   "execution_count": 88,
   "metadata": {},
   "outputs": [
    {
     "data": {
      "text/plain": [
       "tensor([-0.0167, -0.0271])"
      ]
     },
     "execution_count": 88,
     "metadata": {},
     "output_type": "execute_result"
    }
   ],
   "source": [
    "d4.bias"
   ]
  }
 ],
 "metadata": {
  "kernelspec": {
   "display_name": "hyperspectral",
   "language": "python",
   "name": "python3"
  },
  "language_info": {
   "codemirror_mode": {
    "name": "ipython",
    "version": 3
   },
   "file_extension": ".py",
   "mimetype": "text/x-python",
   "name": "python",
   "nbconvert_exporter": "python",
   "pygments_lexer": "ipython3",
   "version": "3.9.12"
  },
  "orig_nbformat": 4,
  "vscode": {
   "interpreter": {
    "hash": "a47e9c955df6178b2e3d07b55dfed71eee1bcf21dc3da9caa7365344dfc4fda2"
   }
  }
 },
 "nbformat": 4,
 "nbformat_minor": 2
}
