{
 "cells": [
  {
   "cell_type": "code",
   "execution_count": 1,
   "metadata": {},
   "outputs": [],
   "source": [
    "import torch\n",
    "from torch import nn\n",
    "from torch.utils.data import DataLoader\n",
    "from torchvision import datasets\n",
    "from torchvision.transforms import ToTensor"
   ]
  },
  {
   "cell_type": "code",
   "execution_count": 3,
   "metadata": {},
   "outputs": [],
   "source": [
    "# Download training data from open datasets.\n",
    "training_data = datasets.FashionMNIST(\n",
    "    root=\"dataset\",\n",
    "    train=True,\n",
    "    download=False,\n",
    "    transform=ToTensor(),\n",
    ")\n",
    "\n",
    "# Download test data from open datasets.\n",
    "test_data = datasets.FashionMNIST(\n",
    "    root=\"dataset\",\n",
    "    train=False,\n",
    "    download=False,\n",
    "    transform=ToTensor(),\n",
    ")"
   ]
  },
  {
   "cell_type": "code",
   "execution_count": 4,
   "metadata": {},
   "outputs": [
    {
     "name": "stdout",
     "output_type": "stream",
     "text": [
      "Shape of X [N, C, H, W]: torch.Size([64, 1, 28, 28])\n",
      "Shape of y: torch.Size([64]) torch.int64\n"
     ]
    }
   ],
   "source": [
    "batch_size = 64\n",
    "\n",
    "# Create data loaders.\n",
    "train_dataloader = DataLoader(training_data, batch_size=batch_size)\n",
    "test_dataloader = DataLoader(test_data, batch_size=batch_size)\n",
    "\n",
    "for X, y in test_dataloader:\n",
    "    print(f\"Shape of X [N, C, H, W]: {X.shape}\")\n",
    "    print(f\"Shape of y: {y.shape} {y.dtype}\")\n",
    "    break"
   ]
  },
  {
   "cell_type": "code",
   "execution_count": 5,
   "metadata": {},
   "outputs": [
    {
     "name": "stdout",
     "output_type": "stream",
     "text": [
      "Using cuda device\n",
      "NeuralNetwork(\n",
      "  (flatten): Flatten(start_dim=1, end_dim=-1)\n",
      "  (linear_relu_stack): Sequential(\n",
      "    (0): Linear(in_features=784, out_features=512, bias=True)\n",
      "    (1): ReLU()\n",
      "    (2): Linear(in_features=512, out_features=512, bias=True)\n",
      "    (3): ReLU()\n",
      "    (4): Linear(in_features=512, out_features=10, bias=True)\n",
      "  )\n",
      ")\n"
     ]
    }
   ],
   "source": [
    "# Get cpu or gpu device for training.\n",
    "device = \"cuda\" if torch.cuda.is_available() else \"cpu\"\n",
    "print(f\"Using {device} device\")\n",
    "\n",
    "# Define model\n",
    "class NeuralNetwork(nn.Module):\n",
    "    def __init__(self):\n",
    "        super().__init__()\n",
    "        self.flatten = nn.Flatten()\n",
    "        self.linear_relu_stack = nn.Sequential(\n",
    "            nn.Linear(28*28, 512),\n",
    "            nn.ReLU(),\n",
    "            nn.Linear(512, 512),\n",
    "            nn.ReLU(),\n",
    "            nn.Linear(512, 10)\n",
    "        )\n",
    "\n",
    "    def forward(self, x):\n",
    "        x = self.flatten(x)\n",
    "        logits = self.linear_relu_stack(x)\n",
    "        return logits\n",
    "\n",
    "model = NeuralNetwork().to(device)\n",
    "print(model)"
   ]
  },
  {
   "cell_type": "code",
   "execution_count": 6,
   "metadata": {},
   "outputs": [],
   "source": [
    "loss_fn = nn.CrossEntropyLoss()\n",
    "optimizer = torch.optim.SGD(model.parameters(), lr=1e-3)"
   ]
  },
  {
   "cell_type": "code",
   "execution_count": 7,
   "metadata": {},
   "outputs": [],
   "source": [
    "def train(dataloader, model:NeuralNetwork, loss_fn, optimizer):\n",
    "    size = len(dataloader.dataset)\n",
    "    model.train()\n",
    "    for batch, (X, y) in enumerate(dataloader):\n",
    "        X, y = X.to(device), y.to(device)\n",
    "\n",
    "        # Compute prediction error\n",
    "        pred = model(X)\n",
    "        loss = loss_fn(pred, y)\n",
    "\n",
    "        # Backpropagation\n",
    "        optimizer.zero_grad()\n",
    "        loss.backward()\n",
    "        optimizer.step()\n",
    "\n",
    "        if batch % 100 == 0:\n",
    "            loss, current = loss.item(), batch * len(X)\n",
    "            print(f\"loss: {loss:>7f}  [{current:>5d}/{size:>5d}]\")"
   ]
  },
  {
   "cell_type": "code",
   "execution_count": 8,
   "metadata": {},
   "outputs": [],
   "source": [
    "def test(dataloader, model, loss_fn):\n",
    "    size = len(dataloader.dataset)\n",
    "    num_batches = len(dataloader)\n",
    "    model.eval()\n",
    "    test_loss, correct = 0, 0\n",
    "    with torch.no_grad():\n",
    "        for X, y in dataloader:\n",
    "            X, y = X.to(device), y.to(device)\n",
    "            pred = model(X)\n",
    "            test_loss += loss_fn(pred, y).item()\n",
    "            correct += (pred.argmax(1) == y).type(torch.float).sum().item()\n",
    "    test_loss /= num_batches\n",
    "    correct /= size\n",
    "    print(f\"Test Error: \\n Accuracy: {(100*correct):>0.1f}%, Avg loss: {test_loss:>8f} \\n\")"
   ]
  },
  {
   "cell_type": "code",
   "execution_count": 9,
   "metadata": {},
   "outputs": [
    {
     "name": "stdout",
     "output_type": "stream",
     "text": [
      "Epoch 1\n",
      "-------------------------------\n",
      "loss: 2.294498  [    0/60000]\n",
      "loss: 2.290232  [ 6400/60000]\n",
      "loss: 2.271285  [12800/60000]\n",
      "loss: 2.266403  [19200/60000]\n",
      "loss: 2.244041  [25600/60000]\n",
      "loss: 2.210786  [32000/60000]\n",
      "loss: 2.219145  [38400/60000]\n",
      "loss: 2.181403  [44800/60000]\n",
      "loss: 2.171651  [51200/60000]\n",
      "loss: 2.131553  [57600/60000]\n",
      "Test Error: \n",
      " Accuracy: 33.7%, Avg loss: 2.135338 \n",
      "\n",
      "Epoch 2\n",
      "-------------------------------\n",
      "loss: 2.146958  [    0/60000]\n",
      "loss: 2.136812  [ 6400/60000]\n",
      "loss: 2.079189  [12800/60000]\n",
      "loss: 2.088723  [19200/60000]\n",
      "loss: 2.032997  [25600/60000]\n",
      "loss: 1.974939  [32000/60000]\n",
      "loss: 1.991043  [38400/60000]\n",
      "loss: 1.918296  [44800/60000]\n",
      "loss: 1.921252  [51200/60000]\n",
      "loss: 1.817913  [57600/60000]\n",
      "Test Error: \n",
      " Accuracy: 58.3%, Avg loss: 1.840938 \n",
      "\n",
      "Epoch 3\n",
      "-------------------------------\n",
      "loss: 1.889285  [    0/60000]\n",
      "loss: 1.842887  [ 6400/60000]\n",
      "loss: 1.739121  [12800/60000]\n",
      "loss: 1.762979  [19200/60000]\n",
      "loss: 1.655798  [25600/60000]\n",
      "loss: 1.628938  [32000/60000]\n",
      "loss: 1.629400  [38400/60000]\n",
      "loss: 1.558803  [44800/60000]\n",
      "loss: 1.573453  [51200/60000]\n",
      "loss: 1.451194  [57600/60000]\n",
      "Test Error: \n",
      " Accuracy: 62.8%, Avg loss: 1.488563 \n",
      "\n",
      "Epoch 4\n",
      "-------------------------------\n",
      "loss: 1.570294  [    0/60000]\n",
      "loss: 1.519243  [ 6400/60000]\n",
      "loss: 1.387493  [12800/60000]\n",
      "loss: 1.443543  [19200/60000]\n",
      "loss: 1.325294  [25600/60000]\n",
      "loss: 1.342944  [32000/60000]\n",
      "loss: 1.345198  [38400/60000]\n",
      "loss: 1.290187  [44800/60000]\n",
      "loss: 1.308918  [51200/60000]\n",
      "loss: 1.207843  [57600/60000]\n",
      "Test Error: \n",
      " Accuracy: 64.1%, Avg loss: 1.237236 \n",
      "\n",
      "Epoch 5\n",
      "-------------------------------\n",
      "loss: 1.323758  [    0/60000]\n",
      "loss: 1.292119  [ 6400/60000]\n",
      "loss: 1.137453  [12800/60000]\n",
      "loss: 1.236875  [19200/60000]\n",
      "loss: 1.105138  [25600/60000]\n",
      "loss: 1.144424  [32000/60000]\n",
      "loss: 1.165927  [38400/60000]\n",
      "loss: 1.115163  [44800/60000]\n",
      "loss: 1.138884  [51200/60000]\n",
      "loss: 1.058281  [57600/60000]\n",
      "Test Error: \n",
      " Accuracy: 65.5%, Avg loss: 1.077556 \n",
      "\n",
      "Done!\n"
     ]
    }
   ],
   "source": [
    "epochs = 5\n",
    "for t in range(epochs):\n",
    "    print(f\"Epoch {t+1}\\n-------------------------------\")\n",
    "    train(train_dataloader, model, loss_fn, optimizer)\n",
    "    test(test_dataloader, model, loss_fn)\n",
    "print(\"Done!\")"
   ]
  }
 ],
 "metadata": {
  "kernelspec": {
   "display_name": "hyperspectral",
   "language": "python",
   "name": "hyperspectral"
  },
  "language_info": {
   "codemirror_mode": {
    "name": "ipython",
    "version": 3
   },
   "file_extension": ".py",
   "mimetype": "text/x-python",
   "name": "python",
   "nbconvert_exporter": "python",
   "pygments_lexer": "ipython3",
   "version": "3.9.12 (main, Apr  4 2022, 05:22:27) [MSC v.1916 64 bit (AMD64)]"
  },
  "orig_nbformat": 4,
  "vscode": {
   "interpreter": {
    "hash": "a47e9c955df6178b2e3d07b55dfed71eee1bcf21dc3da9caa7365344dfc4fda2"
   }
  }
 },
 "nbformat": 4,
 "nbformat_minor": 2
}
